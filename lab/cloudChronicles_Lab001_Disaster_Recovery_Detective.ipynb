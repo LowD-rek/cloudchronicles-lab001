{
 "cells": [
  {
   "cell_type": "markdown",
   "id": "0f1e0979",
   "metadata": {},
   "source": [
    "# 🧠 cloudChronicles Lab #001: Disaster Recovery Detective\n",
    "\n",
    "**Lab Type:** Idea  \n",
    "**Estimated Time:** 30–45 mins  \n",
    "**Skill Level:** Beginner"
   ]
  },
  {
   "cell_type": "code",
   "execution_count": null,
   "id": "a97f86ab",
   "metadata": {},
   "outputs": [],
   "source": [
    "# Let's begin by printing your name to personalize the notebook\n",
    "your_name = Derek",
    "print(f\"Welcome to the lab, {your_name}!\")"
   ]
  },
  {
   "cell_type": "markdown",
   "id": "0f94d019",
   "metadata": {},
   "source": [
    "## 🔍 STAR Method Lab Prompt\n",
    "\n",
    "**Situation:**  \n",
    "[A regional outage has occurred in Google Cloud’s us-central1 region, affecting Cloud SQL databases, Cloud Storage, and Pub/Sub messaging. The goal is to mitigate downtime and restore services as quickly as possible.]\n",
    "\n",
    "**Task:**  \n",
    "[Ensure business continuity by failing over to backup resources. Minimize data loss and recovery time. Maintain communication for operational teams via alerts..]\n",
    "\n",
    "**Action:**  \n",
    "[Cloud SQL Replicas & Failover. Ensure Cloud SQL High Availability (HA) is enabled with automatic failover. Use read replicas in another region (e.g., us-east1). Promote a read replica to a primary instance to restore database operations. Multi-Region Cloud Storage Store critical backups in multi-region buckets or dual-region setups (e.g., nam4 for North America). Redirect application storage operations to the failover region. Enable Object Versioning to safeguard against unintended data loss. Pub/Sub Alerts & Workflow Recovery Set up Pub/Sub notifications to detect outages and trigger automated responses. Use Cloud Functions or Cloud Run to re-route event processing to another region. Enable Dead Letter Topics to prevent data loss in message queuing.]\n",
    "\n",
    "**Expected Result:**  \n",
    "[By implementing this strategy: ✅ Database operations resume with minimal downtime via Cloud SQL replicas. ✅ Storage availability is maintained via multi-region Cloud Storage. ✅ Event-driven applications stay functional with Pub/Sub and Cloud Functions. ✅ Operational teams receive real-time alerts and can take corrective action.]"
   ]
  },
  {
   "cell_type": "markdown",
   "id": "397b221d",
   "metadata": {},
   "source": [
    "## ✍️ Your Assignment\n",
    "\n",
    "_Use this section to complete your deliverable:_\n",
    "\n",
    "```markdown\n",
    "(Example Format)\n",
    "\n",
    "- **Primary Region**: us-central1  \n",
    "- **Backup Location**: us-east1  \n",
    "- **Failover Trigger**: Load balancer health check + Pub/Sub alert  \n",
    "- **Redundancy Services**:  \n",
    "   - Cloud SQL with failover  \n",
    "   - Cloud Storage versioning  \n",
    "   - Cloud Functions for health monitoring  \n",
    "- **Backup Schedule**: Every 6 hours, daily export to multi-region bucket  \n",
    "```"
   ]
  }
 ],
 "metadata": {},
 "nbformat": 4,
 "nbformat_minor": 5
}
